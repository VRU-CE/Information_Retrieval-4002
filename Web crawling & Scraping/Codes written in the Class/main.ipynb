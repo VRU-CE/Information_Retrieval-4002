{
 "cells": [
  {
   "cell_type": "code",
   "execution_count": 1,
   "metadata": {},
   "outputs": [],
   "source": [
    "from lxml import html\n",
    "import requests"
   ]
  },
  {
   "cell_type": "code",
   "execution_count": 12,
   "metadata": {},
   "outputs": [],
   "source": [
    "link1 = requests.get('https://torob.com/browse/94/%DA%AF%D9%88%D8%B4%DB%8C-%D9%85%D9%88%D8%A8%D8%A7%DB%8C%D9%84-mobile/')"
   ]
  },
  {
   "cell_type": "code",
   "execution_count": 13,
   "metadata": {},
   "outputs": [],
   "source": [
    "tree = html.fromstring(link1.text)"
   ]
  },
  {
   "cell_type": "code",
   "execution_count": 16,
   "metadata": {},
   "outputs": [
    {
     "data": {
      "text/plain": [
       "'گوشی شیائومی Poco X3 Pro | حافظه 256 رم 8 گیگابایت ا Xiaomi Poco X3 Pro 256/8 GB'"
      ]
     },
     "execution_count": 16,
     "metadata": {},
     "output_type": "execute_result"
    }
   ],
   "source": [
    "tree.xpath('//*[@id=\"layout-wrapp\"]/div[2]/div/div[2]/div[2]/div[3]/div/div/div[7]/a/div/div/h2/text()')[0]"
   ]
  },
  {
   "cell_type": "code",
   "execution_count": 20,
   "metadata": {},
   "outputs": [
    {
     "data": {
      "text/plain": [
       "['از ۹٫۴۷۰٫۰۰۰ تومان',\n",
       " 'از ۳۸٫۸۰۰٫۰۰۰ تومان',\n",
       " 'از ۲۴٫۵۵۵٫۰۰۰ تومان',\n",
       " 'از ۸٫۶۰۹٫۰۰۰ تومان',\n",
       " 'از ۶٫۱۱۰٫۰۰۰ تومان',\n",
       " 'از ۶٫۹۰۱٫۰۰۰ تومان',\n",
       " 'از ۶٫۸۲۰٫۰۰۰ تومان',\n",
       " 'از ۸٫۲۴۵٫۰۰۰ تومان',\n",
       " 'از ۳٫۷۲۸٫۰۰۰ تومان',\n",
       " 'از ۷٫۴۰۰٫۰۰۰ تومان',\n",
       " 'از ۳۹٫۱۵۰٫۰۰۰ تومان',\n",
       " 'از ۷٫۰۵۰٫۰۰۰ تومان',\n",
       " 'از ۳٫۷۲۸٫۰۰۰ تومان',\n",
       " 'از ۲۶٫۸۵۰٫۰۰۰ تومان',\n",
       " 'از ۳۶٫۴۵۰٫۰۰۰ تومان',\n",
       " 'از ۴٫۹۶۵٫۰۰۰ تومان',\n",
       " 'از ۱۲٫۱۹۰٫۰۰۰ تومان',\n",
       " 'از ۴٫۱۲۹٫۰۰۰ تومان',\n",
       " 'از ۱۴٫۱۷۹٫۰۰۰ تومان',\n",
       " 'از ۷٫۶۳۴٫۰۰۰ تومان',\n",
       " 'از ۳۵٫۷۴۸٫۰۰۰ تومان',\n",
       " 'از ۲۹٫۲۰۰٫۰۰۰ تومان',\n",
       " 'از ۳٫۷۲۵٫۰۰۰ تومان',\n",
       " 'از ۱۶٫۳۹۰٫۰۰۰ تومان']"
      ]
     },
     "execution_count": 20,
     "metadata": {},
     "output_type": "execute_result"
    }
   ],
   "source": [
    "tree.xpath('//div[@class=\"jsx-2834913897 table-cell\"]/div[@class=\"jsx-2834913897\"]/text()')"
   ]
  },
  {
   "cell_type": "code",
   "execution_count": 24,
   "metadata": {},
   "outputs": [
    {
     "data": {
      "text/plain": [
       "['گوشی شیائومی Poco X3 Pro | حافظه 256 رم 8 گیگابایت ا Xiaomi Poco X3 Pro 256/8 GB']"
      ]
     },
     "execution_count": 24,
     "metadata": {},
     "output_type": "execute_result"
    }
   ],
   "source": [
    "tree.xpath('//*[@id=\"layout-wrapp\"]/div[2]/div/div[2]/div[2]/div[3]/div/div/div[7]/a/div/div/h2/text()')"
   ]
  },
  {
   "cell_type": "code",
   "execution_count": 28,
   "metadata": {},
   "outputs": [
    {
     "data": {
      "text/plain": [
       "['از ۶٫۸۲۰٫۰۰۰ تومان', 'در ۱۵۶ فروشگاه']"
      ]
     },
     "execution_count": 28,
     "metadata": {},
     "output_type": "execute_result"
    }
   ],
   "source": [
    "tree.xpath('//*[@id=\"layout-wrapp\"]/div[2]/div/div[2]/div[2]/div[3]/div/div/div[7]/a/div/div/div/div/text()')"
   ]
  },
  {
   "cell_type": "code",
   "execution_count": 34,
   "metadata": {},
   "outputs": [],
   "source": [
    "names = tree.xpath('//*[@class=\"jsx-2834913897\"]/h2/text()')"
   ]
  },
  {
   "cell_type": "code",
   "execution_count": 36,
   "metadata": {},
   "outputs": [],
   "source": [
    "prices = tree.xpath('//*[@class=\"jsx-2834913897\"]/div/div/text()')"
   ]
  },
  {
   "cell_type": "code",
   "execution_count": 37,
   "metadata": {},
   "outputs": [
    {
     "name": "stdout",
     "output_type": "stream",
     "text": [
      "از ۹٫۴۷۰٫۰۰۰ تومان\n",
      "در ۱۵۸ فروشگاه\n",
      "از ۳۸٫۸۰۰٫۰۰۰ تومان\n",
      "در ۱۲۷ فروشگاه\n",
      "از ۲۴٫۵۵۵٫۰۰۰ تومان\n",
      "در ۱۰۱ فروشگاه\n",
      "از ۸٫۶۰۹٫۰۰۰ تومان\n",
      "در ۱۴۰ فروشگاه\n",
      "از ۶٫۱۱۰٫۰۰۰ تومان\n",
      "در ۱۶۰ فروشگاه\n",
      "از ۶٫۹۰۱٫۰۰۰ تومان\n",
      "در ۱۳۱ فروشگاه\n",
      "از ۶٫۸۲۰٫۰۰۰ تومان\n",
      "در ۱۵۶ فروشگاه\n",
      "از ۸٫۲۴۵٫۰۰۰ تومان\n",
      "در ۱۱۵ فروشگاه\n",
      "از ۳٫۷۲۸٫۰۰۰ تومان\n",
      "در ۹۰ فروشگاه\n",
      "از ۷٫۴۰۰٫۰۰۰ تومان\n",
      "در ۷۷ فروشگاه\n",
      "از ۳۹٫۱۵۰٫۰۰۰ تومان\n",
      "در ۵۲ فروشگاه\n",
      "از ۷٫۰۵۰٫۰۰۰ تومان\n",
      "در ۱۰۵ فروشگاه\n",
      "از ۳٫۷۲۸٫۰۰۰ تومان\n",
      "در ۱۳۱ فروشگاه\n",
      "از ۲۶٫۸۵۰٫۰۰۰ تومان\n",
      "در ۵۴ فروشگاه\n",
      "از ۳۶٫۴۵۰٫۰۰۰ تومان\n",
      "در ۱۲۲ فروشگاه\n",
      "از ۴٫۹۶۵٫۰۰۰ تومان\n",
      "در ۱۵۱ فروشگاه\n",
      "از ۱۲٫۱۹۰٫۰۰۰ تومان\n",
      "در ۱۲۶ فروشگاه\n",
      "از ۴٫۱۲۹٫۰۰۰ تومان\n",
      "در ۹۵ فروشگاه\n",
      "از ۱۴٫۱۷۹٫۰۰۰ تومان\n",
      "در ۶۰ فروشگاه\n",
      "از ۷٫۶۳۴٫۰۰۰ تومان\n",
      "در ۱۱۷ فروشگاه\n",
      "از ۳۵٫۷۴۸٫۰۰۰ تومان\n",
      "در ۸۰ فروشگاه\n",
      "از ۲۹٫۲۰۰٫۰۰۰ تومان\n",
      "در ۷۹ فروشگاه\n",
      "از ۳٫۷۲۵٫۰۰۰ تومان\n",
      "در ۱۰۳ فروشگاه\n",
      "از ۱۶٫۳۹۰٫۰۰۰ تومان\n",
      "در ۱۰۲ فروشگاه\n"
     ]
    }
   ],
   "source": [
    "for item in prices:\n",
    "    print(item)"
   ]
  },
  {
   "cell_type": "code",
   "execution_count": 39,
   "metadata": {},
   "outputs": [
    {
     "name": "stdout",
     "output_type": "stream",
     "text": [
      "گوشی سامسونگ A52s 5G | حافظه 256 رم 8 گیگابایت ا Samsung Galaxy A52s 5G 256/8 GB از ۹٫۴۷۰٫۰۰۰ تومان\n",
      "گوشی اپل iPhone 13 Pro max | حافظه 256 گیگابایت ا Apple iPhone 13 Pro max 256 GB در ۱۵۸ فروشگاه\n",
      "گوشی اپل iPhone 13 | حافظه 128 گیگابایت  ا Apple iPhone 13 128 GB  از ۳۸٫۸۰۰٫۰۰۰ تومان\n",
      "گوشی سامسونگ A52s 5G | حافظه 128 رم 8 گیگابایت  ا Samsung Galaxy A52s 5G 128/8 GB  در ۱۲۷ فروشگاه\n",
      "گوشی سامسونگ A32  | حافظه 128 رم 6 گیگابایت ا Samsung Galaxy A32 128/6 GB از ۲۴٫۵۵۵٫۰۰۰ تومان\n",
      "گوشی شیائومی Poco X3 GT | حافظه 256 رم 8 گیگابایت ا Xiaomi Poco X3 GT 256/8 GB در ۱۰۱ فروشگاه\n",
      "گوشی شیائومی Poco X3 Pro | حافظه 256 رم 8 گیگابایت ا Xiaomi Poco X3 Pro 256/8 GB از ۸٫۶۰۹٫۰۰۰ تومان\n",
      "گوشی شیائومی Poco F3 5G | حافظه 256 رم 8 گیگابایت ا Xiaomi Poco F3 5G 256/8 GB در ۱۴۰ فروشگاه\n",
      "گوشی سامسونگ A12 Nacho | حافظه 64 رم 4 گیگابایت ا Samsung Galaxy A12 Nacho 64/4 GB از ۶٫۱۱۰٫۰۰۰ تومان\n",
      "گوشی شیائومی 11Lite NE 5G | حافظه 256 رم 8 گیگابایت ا Xiaomi 11 Lite NE 5G 256/8 GB در ۱۶۰ فروشگاه\n",
      "گوشی اپل iPhone 13 Pro max (Not Active) | حافظه 256 گیگابایت ا Apple iPhone 13 Pro max (Not Active) 256 GB از ۶٫۹۰۱٫۰۰۰ تومان\n",
      "گوشی شیائومی Redmi Note 10 pro | حافظه 128 رم 8 گیگابایت ا Redmi Note 10 pro 128/ 8 GB در ۱۳۱ فروشگاه\n",
      "گوشی سامسونگ A12 | حافظه 64 رم 4 گیگابایت ا Samsung Galaxy A12 64/4 GB از ۶٫۸۲۰٫۰۰۰ تومان\n",
      "گوشی اپل iPhone 13 | حافظه 256 گیگابایت  ا Apple iPhone 13 256 GB  در ۱۵۶ فروشگاه\n",
      "گوشی اپل iPhone 13 Pro | حافظه 256 گیگابایت ا Apple iPhone 13 Pro 256 GB از ۸٫۲۴۵٫۰۰۰ تومان\n",
      "گوشی سامسونگ A22 | حافظه 128 رم 4 گیگابایت ا Samsung Galaxy A22 128/4 GB در ۱۱۵ فروشگاه\n",
      "گوشی سامسونگ S20 FE 5G | حافظه 128 رم 8 گیگابایت ا Samsung Galaxy S20 FE 5G 128/8 GB از ۳٫۷۲۸٫۰۰۰ تومان\n",
      "گوشی سامسونگ A12 Nacho | حافظه 128 رم 4 گیگابایت ا Samsung Galaxy A12 Nacho 128/4 GB در ۹۰ فروشگاه\n",
      "گوشی  سامسونگ S21 FE 5G | حافظه 128 رم 8 گیگابایت ا Samsung Galaxy S21 FE 5G 128/8 GB از ۷٫۴۰۰٫۰۰۰ تومان\n",
      "گوشی سامسونگ A52 | حافظه 128 رم 8 گیگابایت ا Samsung Galaxy A52 128/8 GB در ۷۷ فروشگاه\n",
      "گوشی اپل iPhone 13 Pro Max | حافظه 128 گیگابایت ا Apple iPhone 13 Pro Max 128 GB از ۳۹٫۱۵۰٫۰۰۰ تومان\n",
      "گوشی سامسونگ S21 Ultra 5G | حافظه 256 رم 12 گیگابایت ا Samsung  Galaxy S21 Ultra 5G 256/12 GB در ۵۲ فروشگاه\n",
      "گوشی سامسونگ M12 | حافظه 64 رم 4 گیگابایت ا Samsung Galaxy M12 64/4 GB  از ۷٫۰۵۰٫۰۰۰ تومان\n",
      " گوشی سامسونگ S21 FE 5G | حافظه 256 رم 8 گیگابایت  ا Samsung Galaxy S21 FE 5G 256/8 GB  در ۱۰۵ فروشگاه\n"
     ]
    }
   ],
   "source": [
    "for name, price in zip(names,prices):\n",
    "    print(name,price)"
   ]
  },
  {
   "cell_type": "code",
   "execution_count": 40,
   "metadata": {},
   "outputs": [],
   "source": [
    "import csv"
   ]
  },
  {
   "cell_type": "code",
   "execution_count": 45,
   "metadata": {},
   "outputs": [],
   "source": [
    "fp = csv.writer(open(\"info1.csv\",'w', encoding='utf-8'))"
   ]
  },
  {
   "cell_type": "code",
   "execution_count": 46,
   "metadata": {},
   "outputs": [],
   "source": [
    "for name, price in zip(names,prices):\n",
    "    fp.writerow([name, price])"
   ]
  },
  {
   "cell_type": "code",
   "execution_count": null,
   "metadata": {},
   "outputs": [],
   "source": []
  }
 ],
 "metadata": {
  "interpreter": {
   "hash": "fbddd40d882fe760ef4cbbb00a6c66558df034ca2a8bb28c7152d1a7ea1a2324"
  },
  "kernelspec": {
   "display_name": "Python 3.10.2 64-bit",
   "language": "python",
   "name": "python3"
  },
  "language_info": {
   "codemirror_mode": {
    "name": "ipython",
    "version": 3
   },
   "file_extension": ".py",
   "mimetype": "text/x-python",
   "name": "python",
   "nbconvert_exporter": "python",
   "pygments_lexer": "ipython3",
   "version": "3.10.2"
  },
  "orig_nbformat": 4
 },
 "nbformat": 4,
 "nbformat_minor": 2
}
