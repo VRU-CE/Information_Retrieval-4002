{
 "cells": [
  {
   "cell_type": "markdown",
   "metadata": {
    "collapsed": true,
    "pycharm": {
     "name": "#%% md\n"
    }
   },
   "source": [
    "# Intro to Information Retrieval\n",
    "TA: Parsa KamaliPour\n",
    "session 6"
   ]
  },
  {
   "cell_type": "markdown",
   "source": [
    "### simple handmade stemmer"
   ],
   "metadata": {
    "collapsed": false,
    "pycharm": {
     "name": "#%% md\n"
    }
   }
  },
  {
   "cell_type": "code",
   "execution_count": 26,
   "outputs": [],
   "source": [
    "def handmade_stemmer(list_of_words):\n",
    "    return_list = []\n",
    "    for word in list_of_words:\n",
    "        for suffix in ['s', 'ed', 'ing', 'ies']:\n",
    "            if word.endswith(suffix):\n",
    "                return_list.append(word[:-len(suffix)])\n",
    "    return return_list"
   ],
   "metadata": {
    "collapsed": false,
    "pycharm": {
     "name": "#%%\n"
    }
   }
  },
  {
   "cell_type": "code",
   "execution_count": 27,
   "outputs": [
    {
     "name": "stdout",
     "output_type": "stream",
     "text": [
      "['tie', 't', 'ti', 'citie', 'cit', 'b', 'end']\n"
     ]
    }
   ],
   "source": [
    "some_words = ['try', 'ties', 'tied', 'cities', 'city', 'bed', 'ended']\n",
    "stemmized_words = handmade_stemmer(some_words)\n",
    "print(stemmized_words)"
   ],
   "metadata": {
    "collapsed": false,
    "pycharm": {
     "name": "#%%\n"
    }
   }
  },
  {
   "cell_type": "markdown",
   "source": [
    "## Porter Stemmer"
   ],
   "metadata": {
    "collapsed": false,
    "pycharm": {
     "name": "#%% md\n"
    }
   }
  },
  {
   "cell_type": "code",
   "execution_count": 28,
   "outputs": [],
   "source": [
    "from nltk.stem import PorterStemmer"
   ],
   "metadata": {
    "collapsed": false,
    "pycharm": {
     "name": "#%%\n"
    }
   }
  },
  {
   "cell_type": "code",
   "execution_count": 29,
   "outputs": [
    {
     "name": "stdout",
     "output_type": "stream",
     "text": [
      "['try', 'ties', 'tied', 'cities', 'city', 'bed', 'ended']\n",
      "['tri', 'tie', 'tie', 'citi', 'citi', 'bed', 'end']\n"
     ]
    }
   ],
   "source": [
    "porter = PorterStemmer()\n",
    "print(some_words)\n",
    "porter_results = [porter.stem(x) for x in some_words]\n",
    "print(porter_results)"
   ],
   "metadata": {
    "collapsed": false,
    "pycharm": {
     "name": "#%%\n"
    }
   }
  },
  {
   "cell_type": "code",
   "execution_count": 30,
   "outputs": [
    {
     "name": "stdout",
     "output_type": "stream",
     "text": [
      "['bed', 'kiss', 'tie', 'ti', 'univers', 'univers', 'experi', 'experi', 'past', 'past', 'alumnu', 'alumni', 'adher', 'adhes', 'creat', 'creation']\n"
     ]
    }
   ],
   "source": [
    "some_words_2 = ['bed', 'kiss',\n",
    "         'tied', 'tis',\n",
    "         'universal', 'university',\n",
    "         'experiment', 'experience',\n",
    "         'past', 'paste',\n",
    "         'alumnus', 'alumni',\n",
    "         'adhere', 'adhesion',\n",
    "         'create', 'creation']\n",
    "porter_results_2 = [porter.stem(x) for x in some_words_2]\n",
    "print(porter_results_2)"
   ],
   "metadata": {
    "collapsed": false,
    "pycharm": {
     "name": "#%%\n"
    }
   }
  },
  {
   "cell_type": "markdown",
   "source": [
    "## WordNet Lemmatizer"
   ],
   "metadata": {
    "collapsed": false,
    "pycharm": {
     "name": "#%% md\n"
    }
   }
  },
  {
   "cell_type": "code",
   "execution_count": 31,
   "outputs": [
    {
     "name": "stderr",
     "output_type": "stream",
     "text": [
      "[nltk_data] Downloading package wordnet to\n",
      "[nltk_data]     C:\\Users\\parsa\\AppData\\Roaming\\nltk_data...\n",
      "[nltk_data]   Package wordnet is already up-to-date!\n",
      "[nltk_data] Downloading package omw-1.4 to\n",
      "[nltk_data]     C:\\Users\\parsa\\AppData\\Roaming\\nltk_data...\n",
      "[nltk_data]   Package omw-1.4 is already up-to-date!\n"
     ]
    },
    {
     "data": {
      "text/plain": "True"
     },
     "execution_count": 31,
     "metadata": {},
     "output_type": "execute_result"
    }
   ],
   "source": [
    "import nltk\n",
    "from nltk.stem.wordnet import WordNetLemmatizer\n",
    "nltk.download('wordnet')\n",
    "nltk.download('omw-1.4')"
   ],
   "metadata": {
    "collapsed": false,
    "pycharm": {
     "name": "#%%\n"
    }
   }
  },
  {
   "cell_type": "code",
   "execution_count": 32,
   "outputs": [],
   "source": [
    "lem = WordNetLemmatizer()\n",
    "lem_results = [lem.lemmatize(x) for x in some_words_2]"
   ],
   "metadata": {
    "collapsed": false,
    "pycharm": {
     "name": "#%%\n"
    }
   }
  },
  {
   "cell_type": "code",
   "execution_count": 34,
   "outputs": [
    {
     "name": "stdout",
     "output_type": "stream",
     "text": [
      "       original\t         porter\t     lemmatizer\n",
      "\n",
      "\n",
      "            bed\t            bed\t            bed\n",
      "           kiss\t           kiss\t           kiss\n",
      "           tied\t            tie\t           tied\n",
      "            tis\t             ti\t             ti\n",
      "      universal\t        univers\t      universal\n",
      "     university\t        univers\t     university\n",
      "     experiment\t         experi\t     experiment\n",
      "     experience\t         experi\t     experience\n",
      "           past\t           past\t           past\n",
      "          paste\t           past\t          paste\n",
      "        alumnus\t         alumnu\t        alumnus\n",
      "         alumni\t         alumni\t        alumnus\n",
      "         adhere\t          adher\t         adhere\n",
      "       adhesion\t          adhes\t       adhesion\n",
      "         create\t          creat\t         create\n",
      "       creation\t       creation\t       creation\n"
     ]
    }
   ],
   "source": [
    "print('%15s\\t%15s\\t%15s' % ('original', 'porter', 'lemmatizer'))\n",
    "print('\\n')\n",
    "print('\\n'.join(['%15s\\t%15s\\t%15s' % (t[0], t[1], t[2])\n",
    "                 for t in zip(some_words_2, porter_results_2, lem_results)]))"
   ],
   "metadata": {
    "collapsed": false,
    "pycharm": {
     "name": "#%%\n"
    }
   }
  },
  {
   "cell_type": "markdown",
   "source": [
    "## Inverted_index"
   ],
   "metadata": {
    "collapsed": false,
    "pycharm": {
     "name": "#%% md\n"
    }
   }
  },
  {
   "cell_type": "code",
   "execution_count": 35,
   "outputs": [],
   "source": [
    "Inverted_index = {\n",
    "    'Cat':[2,4,8,16,19,23,28,43],\n",
    "    'Dog':[1,2,3,5,8,41,51,60,71]\n",
    "}"
   ],
   "metadata": {
    "collapsed": false,
    "pycharm": {
     "name": "#%%\n"
    }
   }
  },
  {
   "cell_type": "markdown",
   "source": [
    "## merge two posting lists"
   ],
   "metadata": {
    "collapsed": false,
    "pycharm": {
     "name": "#%% md\n"
    }
   }
  },
  {
   "cell_type": "code",
   "execution_count": 36,
   "outputs": [],
   "source": [
    "def intersect(postlist1, postlist2):\n",
    "    answer = []\n",
    "    p1, p2 = 0,0\n",
    "    p1_size, p2_size = len(postlist1), len(postlist2)\n",
    "    while p1 < p1_size and p2 < p2_size:\n",
    "        if postlist1[p1] == postlist2[p2]:\n",
    "            answer.append(postlist1[p1])\n",
    "            p1 += 1\n",
    "            p2 += 1\n",
    "        elif postlist1[p1] < postlist2[p2]:\n",
    "            p1 += 1\n",
    "        else:\n",
    "            p2 += 1\n",
    "\n",
    "    return answer"
   ],
   "metadata": {
    "collapsed": false,
    "pycharm": {
     "name": "#%%\n"
    }
   }
  },
  {
   "cell_type": "code",
   "execution_count": 37,
   "outputs": [
    {
     "name": "stdout",
     "output_type": "stream",
     "text": [
      "[2, 8]\n"
     ]
    }
   ],
   "source": [
    "merge_res = intersect(Inverted_index['Cat'], Inverted_index['Dog'])\n",
    "print(merge_res)"
   ],
   "metadata": {
    "collapsed": false,
    "pycharm": {
     "name": "#%%\n"
    }
   }
  }
 ],
 "metadata": {
  "kernelspec": {
   "display_name": "Python 3",
   "language": "python",
   "name": "python3"
  },
  "language_info": {
   "codemirror_mode": {
    "name": "ipython",
    "version": 2
   },
   "file_extension": ".py",
   "mimetype": "text/x-python",
   "name": "python",
   "nbconvert_exporter": "python",
   "pygments_lexer": "ipython2",
   "version": "2.7.6"
  }
 },
 "nbformat": 4,
 "nbformat_minor": 0
}